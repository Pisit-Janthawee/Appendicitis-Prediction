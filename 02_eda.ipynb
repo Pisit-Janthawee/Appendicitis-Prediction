{
 "cells": [
  {
   "attachments": {},
   "cell_type": "markdown",
   "metadata": {},
   "source": [
    "# Libraries"
   ]
  },
  {
   "cell_type": "code",
   "execution_count": 1,
   "metadata": {},
   "outputs": [],
   "source": [
    "import time\n",
    "import pandas as pd\n",
    "import numpy as np\n",
    "import re\n",
    "\n",
    "import json\n",
    "import os\n",
    "\n",
    "import seaborn as sns\n",
    "import matplotlib.pyplot as plt\n",
    "import missingno as msno\n",
    "import plotly.express as px\n",
    "import plotly.graph_objs as go\n",
    "\n",
    "# remove verison errors\n",
    "import warnings\n",
    "warnings.filterwarnings('ignore')"
   ]
  },
  {
   "cell_type": "code",
   "execution_count": null,
   "metadata": {},
   "outputs": [],
   "source": [
    "# # Select Palette\n",
    "# fig = px.colors.sequential.swatches_continuous()\n",
    "# fig.show()"
   ]
  },
  {
   "attachments": {},
   "cell_type": "markdown",
   "metadata": {},
   "source": [
    "# Import CSV"
   ]
  },
  {
   "attachments": {},
   "cell_type": "markdown",
   "metadata": {},
   "source": [
    "## Raw data"
   ]
  },
  {
   "cell_type": "code",
   "execution_count": null,
   "metadata": {},
   "outputs": [],
   "source": [
    "path = 'repository/data_prep/Appendicitis.csv'\n",
    "knn_path = 'repository/data_prep/knn_Appendicitis.csv'\n",
    "iter_path = 'repository/data_prep/iter_Appendicitis.csv'\n",
    "# ---\n",
    "df = pd.read_csv(path)\n",
    "knn_df_imputed = pd.read_csv(knn_path)\n",
    "interative_df_imputed = pd.read_csv(iter_path)"
   ]
  },
  {
   "cell_type": "code",
   "execution_count": null,
   "metadata": {},
   "outputs": [],
   "source": [
    "df_dict = {'Original': df,'KNN': knn_df_imputed,'IterativeImputer':interative_df_imputed}"
   ]
  },
  {
   "cell_type": "code",
   "execution_count": null,
   "metadata": {},
   "outputs": [],
   "source": [
    "df"
   ]
  },
  {
   "attachments": {},
   "cell_type": "markdown",
   "metadata": {},
   "source": [
    "# Feature Portability\n",
    "**Obj**: Grouped some feature easy to EDA"
   ]
  },
  {
   "cell_type": "code",
   "execution_count": null,
   "metadata": {},
   "outputs": [],
   "source": [
    "df[\"age\"].describe()"
   ]
  },
  {
   "cell_type": "code",
   "execution_count": null,
   "metadata": {},
   "outputs": [],
   "source": [
    "df[\"AgeGroup\"] = pd.cut(df[\"age\"], bins=[0, 10, 20, 30,\n",
    "                               40], labels=[\"< 10\", \"11 - 20\", \"21 - 30\", \"31 - 40\"])\n",
    "df['AgeGroup']"
   ]
  },
  {
   "cell_type": "code",
   "execution_count": null,
   "metadata": {},
   "outputs": [],
   "source": [
    "age_group = {'< 10': 0, '11 - 20': 1, '21 - 30': 2, '31 - 40': 3}\n",
    "df['AgeGroup'] = df['AgeGroup'].map(age_group)\n",
    "df['AgeGroup']"
   ]
  },
  {
   "attachments": {},
   "cell_type": "markdown",
   "metadata": {},
   "source": [
    "# Exploratory Data Analysis\n",
    "Obj: \n",
    "- identifying and dealing with missing values, outliers, and inconsistencies in the dataset.\n",
    "- identifying Patterns and Relationships, such as The higher WBC can distinguish between disease and no disease\n",
    "- identifying the most informative variables for modeling"
   ]
  },
  {
   "attachments": {},
   "cell_type": "markdown",
   "metadata": {},
   "source": [
    "## 1. Pairgrid\n",
    "**Obj** : \n",
    "- **Relationships**: the relationship between each pair of variables.\n",
    "- **Correlations**: Linearity each pair of variables.\n",
    "- **Outliers** and etc."
   ]
  },
  {
   "attachments": {},
   "cell_type": "markdown",
   "metadata": {},
   "source": [
    "### Original"
   ]
  },
  {
   "cell_type": "code",
   "execution_count": null,
   "metadata": {},
   "outputs": [],
   "source": [
    "g = sns.PairGrid(df[['WBC', 'RBC', 'Neutrophil',\n",
    "                                 'Lymphocytes', 'Urine WBC', 'Urine RBC', 'Leukocytes', 'Urine Ketone',\n",
    "                                 'Urine Color', 'Urine Sugar',\n",
    "                                'Target']], hue='Target')\n",
    "g.map_upper(sns.kdeplot)\n",
    "g.map_lower(sns.kdeplot, fill=True)\n",
    "g.map_diag(sns.histplot, kde=True)"
   ]
  },
  {
   "attachments": {},
   "cell_type": "markdown",
   "metadata": {},
   "source": [
    "### KNNImputer"
   ]
  },
  {
   "cell_type": "code",
   "execution_count": null,
   "metadata": {},
   "outputs": [],
   "source": [
    "g = sns.PairGrid(knn_df_imputed[['WBC', 'RBC', 'Neutrophil',\n",
    "                                 'Lymphocytes', 'Urine WBC', 'Urine RBC', 'Leukocytes', 'Urine Ketone',\n",
    "                                 'Urine Color', 'Urine Sugar',\n",
    "                                'Target']], hue='Target')\n",
    "g.map_upper(sns.kdeplot)\n",
    "g.map_lower(sns.kdeplot, fill=True)\n",
    "g.map_diag(sns.histplot, kde=True)\n"
   ]
  },
  {
   "attachments": {},
   "cell_type": "markdown",
   "metadata": {},
   "source": [
    "### IterativeImputer"
   ]
  },
  {
   "cell_type": "code",
   "execution_count": null,
   "metadata": {},
   "outputs": [],
   "source": [
    "g = sns.PairGrid(interative_df_imputed[['WBC', 'RBC', 'Neutrophil',\n",
    "                                 'Lymphocytes', 'Urine WBC', 'Urine RBC', 'Leukocytes', 'Urine Ketone',\n",
    "                                 'Urine Color', 'Urine Sugar',\n",
    "                                'Target']], hue='Target')\n",
    "g.map_upper(sns.kdeplot)\n",
    "g.map_lower(sns.kdeplot, fill=True)\n",
    "g.map_diag(sns.histplot, kde=True)"
   ]
  },
  {
   "attachments": {},
   "cell_type": "markdown",
   "metadata": {},
   "source": [
    "## 2. Age\n",
    "Appendicitis is among the commonest **childhood** diseases, between 10 and 19 years of age."
   ]
  },
  {
   "cell_type": "code",
   "execution_count": null,
   "metadata": {},
   "outputs": [],
   "source": [
    "plt.figure(figsize=(15, 9))\n",
    "ax = sns.kdeplot(\n",
    "    data=df, x='age', hue=\"Target\",\n",
    "    fill=True, common_norm=False,\n",
    "    alpha=.5, linewidth=0,\n",
    ")\n",
    "\n",
    "ax.set_title(r'$\\bf{' + 'AgeGroup' + '}$' +\n",
    "             ' for Appendicitis Population')\n",
    "ax.legend(['Disease', 'No-disease'])\n",
    "ax.set(xlabel='Age Range')\n",
    "\n",
    "plt.show()\n"
   ]
  },
  {
   "cell_type": "code",
   "execution_count": null,
   "metadata": {},
   "outputs": [],
   "source": [
    "plt.figure(figsize=(8, 6))\n",
    "sns.scatterplot(data=df, x=\"AgeGroup\", y=\"age\", hue=\"Target\", alpha=0.2)\n",
    "plt.legend(title=\"Target\", loc=\"upper right\")\n",
    "plt.title('Range of Age\\n'+'\\n'.join(age_group.keys()))\n",
    "plt.legend(['Disease', 'No Disease'])\n",
    "plt.xlabel(\"Group\")\n",
    "plt.ylabel(\"Age\")\n"
   ]
  },
  {
   "attachments": {},
   "cell_type": "markdown",
   "metadata": {},
   "source": [
    "## 3. WBC Differential\n",
    "| Variable | Full form | TH | Normal range | Indicates the condition / บ่งบอกสภาวะ | Differential |\n",
    "| --- | --- | --- | --- | --- | --- |\n",
    "| WBC | White blood cell | ค่าปริมาณเซลล์เม็ดเลือดขาว  | 4,500 – 11,000 cells/mm³ | High WBC Count (Leukocytosis)/ Low WBC Count (Leukopenia) / การติดเชื้อแบคทีเรียม (Bacteria) / การต่อต้านเชื้อไวรัส (Virus) / ภาวะอักเสบเรื้อรัง (Chronic Inflammation) / ภาวะภูมิแพ้ (Allergy) | Neutrophil 50%-70% / Lymphocyte 20%-40% / Monocyte 0%-7% / Eosinophil 0%-5% / Basophil 0%-1% |"
   ]
  },
  {
   "attachments": {},
   "cell_type": "markdown",
   "metadata": {},
   "source": [
    "| WBC | Neutrophil | Lymphocytes | Leukocytes |\n",
    "| --- | --- | --- | --- |"
   ]
  },
  {
   "cell_type": "code",
   "execution_count": null,
   "metadata": {},
   "outputs": [],
   "source": [
    "features = ['WBC', 'Neutrophil', 'Lymphocytes', 'Leukocytes']\n",
    "n_rows = 1\n",
    "n_cols = 4\n",
    "fig, axes = plt.subplots(nrows=n_rows, ncols=n_cols, figsize=(20, 4*n_rows))\n",
    "\n",
    "for i, col in enumerate(features):\n",
    "    sns.scatterplot(data=df, x='WBC', y=col, hue='Target',\n",
    "                    palette='viridis', ax=axes[i])\n",
    "\n",
    "    axes[i].set_xlabel('WBC')\n",
    "    axes[i].set_ylabel(col)\n",
    "    axes[i].legend(['Disease', 'No Disease'])\n",
    "    axes[i].set_title(f'WBC Differential\\nWBC / {col}')\n",
    "\n",
    "plt.tight_layout()\n",
    "plt.show()\n"
   ]
  },
  {
   "attachments": {},
   "cell_type": "markdown",
   "metadata": {},
   "source": [
    "## 4. Alvarado Score (AS) and Pediatric appendicitis score (PAS) on Disease / No Disease"
   ]
  },
  {
   "cell_type": "code",
   "execution_count": null,
   "metadata": {},
   "outputs": [],
   "source": [
    "related_cols = ['Migration of pain','Anorexia','Urine Ketone','Nausea/vomiting','Tenderness in right lower quadrant','Rebound tenderness','WBC','Neutrophil']"
   ]
  },
  {
   "attachments": {},
   "cell_type": "markdown",
   "metadata": {},
   "source": [
    "### 4.1 Relation between(AS, PAS) and (Related variables)\n"
   ]
  },
  {
   "cell_type": "code",
   "execution_count": null,
   "metadata": {},
   "outputs": [],
   "source": [
    "for col in related_cols:\n",
    "    fig, axes = plt.subplots(1, 3, figsize=(15, 8))\n",
    "    # Orignal\n",
    "    axes[0].set_title(r'$\\bf{' + list(df_dict.keys())[0] + '}$')\n",
    "    sns.kdeplot(ax=axes[0], data=list(df_dict.values())[0], x='Alvarado Score (AS)',\n",
    "                y=col, fill=True, hue=\"Target\")\n",
    "    axes[0].legend(['Disease', 'No Disease'])\n",
    "    # Mean\n",
    "    axes[1].set_title(r'$\\bf{' + list(df_dict.keys())[1] + '}$')\n",
    "    sns.kdeplot(ax=axes[1], data=list(df_dict.values())[1], x='Pediatric appendicitis score (PAS)',\n",
    "                y=col, fill=True, hue=\"Target\")\n",
    "    axes[1].legend(['Disease', 'No Disease'])\n",
    "    # KNN\n",
    "    axes[2].set_title(r'$\\bf{' + list(df_dict.keys())[2] + '}$')\n",
    "    sns.kdeplot(ax=axes[2], data=list(df_dict.values())[2], x='Alvarado Score (AS)',\n",
    "                y=col, fill=True, hue=\"Target\")\n",
    "    axes[2].legend(['Disease', 'No Disease'])\n",
    "    plt.show()\n"
   ]
  },
  {
   "attachments": {},
   "cell_type": "markdown",
   "metadata": {},
   "source": [
    "### 4.2 AS vs PAS"
   ]
  },
  {
   "cell_type": "code",
   "execution_count": null,
   "metadata": {},
   "outputs": [],
   "source": [
    "sns.kdeplot(data=df, x='Pediatric appendicitis score (PAS)', y='Alvarado Score (AS)',\n",
    "            fill=True, hue='Target').set(title=r'$\\bf{' + 'Original' + '}$')"
   ]
  },
  {
   "attachments": {},
   "cell_type": "markdown",
   "metadata": {},
   "source": [
    "# 5. Correlation"
   ]
  },
  {
   "attachments": {},
   "cell_type": "markdown",
   "metadata": {},
   "source": [
    "## 5.1 Pearson Correlation \n",
    "Full features "
   ]
  },
  {
   "cell_type": "code",
   "execution_count": null,
   "metadata": {},
   "outputs": [],
   "source": [
    "mask = np.zeros_like(df.corr(), dtype=np.bool) \n",
    "mask[np.triu_indices_from(mask)] = True \n",
    "\n",
    "f, ax = plt.subplots(figsize=(30, 18))\n",
    "plt.title('Pearson Correlation Matrix',fontsize=20)\n",
    "# Purples_r\n",
    "sns.heatmap(df.corr(),linewidths=0,vmax=0.7,square=True,cmap='BuGn', \n",
    "            linecolor='w',annot=True,annot_kws={\"size\":10},mask=mask,cbar_kws={\"shrink\": .9})"
   ]
  },
  {
   "cell_type": "markdown",
   "metadata": {},
   "source": [
    "## 5.2 Pearson Correlation\n",
    "on Target "
   ]
  },
  {
   "cell_type": "code",
   "execution_count": null,
   "metadata": {},
   "outputs": [],
   "source": [
    "fig, axes = plt.subplots(figsize=(15, 8))\n",
    "fig.suptitle('Pearson Correlation Matrix', fontsize=20, fontweight='bold')\n",
    "\n",
    "corr_matrix = df.corr()\n",
    "# Df section\n",
    "target_corr = corr_matrix['Target']\n",
    "other_corr = corr_matrix.drop('Target')['Target']\n",
    "corr_df = pd.DataFrame({'Target': target_corr})\n",
    "corr_df = corr_df.reindex(\n",
    "    corr_df['Target'].abs().sort_values(ascending=False).index)\n",
    "# Graph Section\n",
    "\n",
    "axes.set_title(r'$\\bf{' + 'Original' + '}$' +\n",
    "               f'\\nAppendicitis')\n",
    "sns.heatmap(corr_df, cmap=\"YlGnBu\", annot=True, ax=axes)\n",
    "plt.vlines(x=1, ymin=0, ymax=len(corr_df), colors='r', linewidth=2)\n",
    "plt.show()\n"
   ]
  },
  {
   "attachments": {},
   "cell_type": "markdown",
   "metadata": {},
   "source": [
    "## 6. Parallel Plots\n",
    "**Obj**:  to visualize and compare relationship between features and classes, identify discriminative features."
   ]
  },
  {
   "attachments": {},
   "cell_type": "markdown",
   "metadata": {},
   "source": [
    "#### Create a subset of related variables on **Target**"
   ]
  },
  {
   "cell_type": "code",
   "execution_count": null,
   "metadata": {},
   "outputs": [],
   "source": [
    "as_cols = ['Migration of pain',\n",
    "            'Anorexia',\n",
    "            'Urine Ketone',\n",
    "            'Nausea/vomiting',\n",
    "            'Tenderness in right lower quadrant',\n",
    "            'Rebound tenderness',\n",
    "            'WBC',\n",
    "            'Neutrophil', \n",
    "            # Target\n",
    "            'Target']\n"
   ]
  },
  {
   "cell_type": "code",
   "execution_count": null,
   "metadata": {},
   "outputs": [],
   "source": [
    "clinical_cols = ['Peritonitis/abdominal guarding',\n",
    "                 'Migration of pain', 'Tenderness in right lower quadrant',\n",
    "                 'Rebound tenderness', 'Cough tenderness', 'Nausea/vomiting', 'Anorexia',\n",
    "                 'Dysuria', 'Stool'\n",
    "                 # Target\n",
    "                 'Target'\n",
    "                 ]"
   ]
  },
  {
   "cell_type": "code",
   "execution_count": null,
   "metadata": {},
   "outputs": [],
   "source": [
    "lab_cols = ['WBC', 'RBC', 'Neutrophil',\n",
    "'Lymphocytes', 'Urine WBC', 'Urine RBC', 'Leukocytes', 'Urine Ketone',\n",
    "'Urine Color', 'Urine Sugar', 'Urine Leukocytes',\n",
    "'Urine Specific gravity', 'Target']\n"
   ]
  },
  {
   "cell_type": "code",
   "execution_count": null,
   "metadata": {},
   "outputs": [],
   "source": [
    "# # Select colors for parallel_coordinates\n",
    "# fig = px.colors.sequential.swatches_continuous()\n",
    "# fig.show()"
   ]
  },
  {
   "attachments": {},
   "cell_type": "markdown",
   "metadata": {},
   "source": [
    "### 0 = No disease, 1 = Disease"
   ]
  },
  {
   "cell_type": "code",
   "execution_count": null,
   "metadata": {},
   "outputs": [],
   "source": [
    "fig = px.parallel_coordinates(df, color='Target', dimensions=lab_cols,\n",
    "                              color_continuous_scale=['blue', 'red'],\n",
    "                              title=\"Appendicitis Coordinates Plot\")\n",
    "fig.show()"
   ]
  }
 ],
 "metadata": {
  "kernelspec": {
   "display_name": "Python 3",
   "language": "python",
   "name": "python3"
  },
  "language_info": {
   "codemirror_mode": {
    "name": "ipython",
    "version": 3
   },
   "file_extension": ".py",
   "mimetype": "text/x-python",
   "name": "python",
   "nbconvert_exporter": "python",
   "pygments_lexer": "ipython3",
   "version": "3.10.5"
  },
  "orig_nbformat": 4
 },
 "nbformat": 4,
 "nbformat_minor": 2
}
